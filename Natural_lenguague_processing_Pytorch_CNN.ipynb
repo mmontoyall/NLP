{
  "cells": [
    {
      "cell_type": "markdown",
      "metadata": {
        "id": "WlFS_v7TpRHe"
      },
      "source": [
        "# Homework 3: Pytorch and CNNs\n",
        "\n",
        "In this homework, you will begin exploring Pytorch, a neural network library that will be used throughout the remainder of the semester.  This homework will focus on implementing a bag-of-words logistic regression and a convolutional neural networks.\n",
        "\n"
      ]
    },
    {
      "cell_type": "code",
      "execution_count": null,
      "metadata": {
        "id": "wyY0yl1Jpf2o"
      },
      "outputs": [],
      "source": [
        "import numpy as np\n",
        "import nltk\n",
        "import matplotlib.pyplot as plt\n",
        "import torch\n",
        "import torch.nn as nn\n",
        "import nltk\n",
        "from collections import Counter\n",
        "\n",
        "#Sets random seeds for reproducibility\n",
        "seed=159259\n",
        "np.random.seed(seed)\n",
        "torch.manual_seed(seed)\n",
        "torch.cuda.manual_seed(seed)\n",
        "torch.backends.cudnn.deterministic = True"
      ]
    },
    {
      "cell_type": "code",
      "execution_count": null,
      "metadata": {
        "id": "s7DVjxeq_-OF",
        "colab": {
          "base_uri": "https://localhost:8080/"
        },
        "outputId": "e1f56308-86c9-43fc-8628-cb7078c65f6b"
      },
      "outputs": [
        {
          "output_type": "stream",
          "name": "stdout",
          "text": [
            "/usr/lib/python3.7/runpy.py:125: RuntimeWarning: 'nltk.downloader' found in sys.modules after import of package 'nltk', but prior to execution of 'nltk.downloader'; this may result in unpredictable behaviour\n",
            "  warn(RuntimeWarning(msg))\n",
            "[nltk_data] Downloading package punkt to /root/nltk_data...\n",
            "[nltk_data]   Package punkt is already up-to-date!\n"
          ]
        }
      ],
      "source": [
        "!python -m nltk.downloader punkt"
      ]
    },
    {
      "cell_type": "markdown",
      "metadata": {
        "id": "jlYfHZwlQXA_"
      },
      "source": [
        "When looking up pytorch documentation, it may be useful to know which version of torch you are running.\n"
      ]
    },
    {
      "cell_type": "code",
      "execution_count": null,
      "metadata": {
        "id": "qUdEHON5lybF",
        "colab": {
          "base_uri": "https://localhost:8080/"
        },
        "outputId": "31457f84-64ce-4748-bed7-1f902dbfd858"
      },
      "outputs": [
        {
          "output_type": "stream",
          "name": "stdout",
          "text": [
            "1.10.0+cu111\n"
          ]
        }
      ],
      "source": [
        "print(torch.__version__)"
      ]
    },
    {
      "cell_type": "markdown",
      "metadata": {
        "id": "8xrbyc1flKp_"
      },
      "source": [
        "# **IMPORTANT**: GPU is not enabled by default\n",
        "\n",
        "You must switch runtime environments if your output of the next block of code has an error saying \"ValueError: Expected a cuda device, but got: cpu\"\n",
        "\n",
        "Go to Runtime > Change runtime type > Hardware accelerator > GPU"
      ]
    },
    {
      "cell_type": "code",
      "execution_count": null,
      "metadata": {
        "id": "mRy4VWrvkCP6",
        "colab": {
          "base_uri": "https://localhost:8080/"
        },
        "outputId": "cc29b966-f95f-4b54-e8a9-c4b744cc2783"
      },
      "outputs": [
        {
          "output_type": "stream",
          "name": "stdout",
          "text": [
            "Running on cuda\n"
          ]
        }
      ],
      "source": [
        "device = \"cuda\" if torch.cuda.is_available() else \"cpu\"\n",
        "print(\"Running on {}\".format(device))"
      ]
    },
    {
      "cell_type": "markdown",
      "metadata": {
        "id": "XyARzkPKmUlR"
      },
      "source": [
        "# Data Processing\n",
        "\n",
        "Let's begin by loading our datasets and the 50-dimensional GLoVE word embeddings.  "
      ]
    },
    {
      "cell_type": "code",
      "execution_count": null,
      "metadata": {
        "id": "l_ZZQsGwH5vj",
        "colab": {
          "base_uri": "https://localhost:8080/"
        },
        "outputId": "115682f2-f68f-43dc-ef73-6a8a27df57a8"
      },
      "outputs": [
        {
          "output_type": "stream",
          "name": "stdout",
          "text": [
            "--2022-02-09 00:24:20--  https://raw.githubusercontent.com/dbamman/nlp22/main/HW3/train.txt\n",
            "Resolving raw.githubusercontent.com (raw.githubusercontent.com)... 185.199.108.133, 185.199.109.133, 185.199.110.133, ...\n",
            "Connecting to raw.githubusercontent.com (raw.githubusercontent.com)|185.199.108.133|:443... connected.\n",
            "HTTP request sent, awaiting response... 200 OK\n",
            "Length: 6645801 (6.3M) [text/plain]\n",
            "Saving to: ‘train.txt.1’\n",
            "\n",
            "train.txt.1         100%[===================>]   6.34M  --.-KB/s    in 0.08s   \n",
            "\n",
            "2022-02-09 00:24:21 (80.3 MB/s) - ‘train.txt.1’ saved [6645801/6645801]\n",
            "\n",
            "--2022-02-09 00:24:21--  https://raw.githubusercontent.com/dbamman/nlp22/main/HW3/dev.txt\n",
            "Resolving raw.githubusercontent.com (raw.githubusercontent.com)... 185.199.110.133, 185.199.108.133, 185.199.111.133, ...\n",
            "Connecting to raw.githubusercontent.com (raw.githubusercontent.com)|185.199.110.133|:443... connected.\n",
            "HTTP request sent, awaiting response... 200 OK\n",
            "Length: 1309909 (1.2M) [text/plain]\n",
            "Saving to: ‘dev.txt.1’\n",
            "\n",
            "dev.txt.1           100%[===================>]   1.25M  --.-KB/s    in 0.05s   \n",
            "\n",
            "2022-02-09 00:24:21 (23.2 MB/s) - ‘dev.txt.1’ saved [1309909/1309909]\n",
            "\n",
            "--2022-02-09 00:24:21--  https://raw.githubusercontent.com/dbamman/nlp22/main/HW3/glove.6B.50d.50K.txt\n",
            "Resolving raw.githubusercontent.com (raw.githubusercontent.com)... 185.199.108.133, 185.199.109.133, 185.199.110.133, ...\n",
            "Connecting to raw.githubusercontent.com (raw.githubusercontent.com)|185.199.108.133|:443... connected.\n",
            "HTTP request sent, awaiting response... 200 OK\n",
            "Length: 21357789 (20M) [text/plain]\n",
            "Saving to: ‘glove.6B.50d.50K.txt.1’\n",
            "\n",
            "glove.6B.50d.50K.tx 100%[===================>]  20.37M  --.-KB/s    in 0.1s    \n",
            "\n",
            "2022-02-09 00:24:21 (153 MB/s) - ‘glove.6B.50d.50K.txt.1’ saved [21357789/21357789]\n",
            "\n"
          ]
        }
      ],
      "source": [
        "!wget https://raw.githubusercontent.com/dbamman/nlp22/main/HW3/train.txt\n",
        "!wget https://raw.githubusercontent.com/dbamman/nlp22/main/HW3/dev.txt\n",
        "!wget https://raw.githubusercontent.com/dbamman/nlp22/main/HW3/glove.6B.50d.50K.txt"
      ]
    },
    {
      "cell_type": "code",
      "execution_count": null,
      "metadata": {
        "id": "vC5tWWn2mWhH"
      },
      "outputs": [],
      "source": [
        "trainingFile = \"train.txt\"\n",
        "devFile = \"dev.txt\""
      ]
    },
    {
      "cell_type": "code",
      "execution_count": null,
      "metadata": {
        "id": "q_vLcPzzIxDw"
      },
      "outputs": [],
      "source": [
        "labels = {'pos': 0, 'neg': 1}"
      ]
    },
    {
      "cell_type": "code",
      "execution_count": null,
      "metadata": {
        "id": "sNb4H1auI4lA"
      },
      "outputs": [],
      "source": [
        "def get_batches(x, y, xType, batch_size=12):\n",
        "    batches_x=[]\n",
        "    batches_y=[]\n",
        "    for i in range(0, len(x), batch_size):\n",
        "        batches_x.append(xType(x[i:i+batch_size]))\n",
        "        batches_y.append(torch.LongTensor(y[i:i+batch_size]))\n",
        "    \n",
        "    return batches_x, batches_y\n",
        "        "
      ]
    },
    {
      "cell_type": "code",
      "execution_count": null,
      "metadata": {
        "id": "SnIbufFHlYSx"
      },
      "outputs": [],
      "source": [
        "PAD_INDEX = 0             # reserved for padding words\n",
        "UNKNOWN_INDEX = 1         # reserved for unknown words\n",
        "SEP_INDEX = 2\n",
        "\n",
        "data_lens = []\n",
        "\n",
        "def read_embeddings(filename, vocab_size=50000):\n",
        "  \"\"\"\n",
        "  Utility function, loads in the `vocab_size` most common embeddings from `filename`\n",
        "  \n",
        "  Arguments:\n",
        "  - filename:     path to file\n",
        "                  automatically infers correct embedding dimension from filename\n",
        "  - vocab_size:   maximum number of embeddings to load\n",
        "\n",
        "  Returns \n",
        "  - embeddings:   torch.FloatTensor matrix of size (vocab_size x word_embedding_dim)\n",
        "  - vocab:        dictionary mapping word (str) to index (int) in embedding matrix\n",
        "  \"\"\"\n",
        "\n",
        "  # get the embedding size from the first embedding\n",
        "  with open(filename, encoding=\"utf-8\") as file:\n",
        "    word_embedding_dim = len(file.readline().split(\" \")) - 1\n",
        "\n",
        "  vocab = {}\n",
        "\n",
        "  embeddings = np.zeros((vocab_size, word_embedding_dim))\n",
        "  with open(filename, encoding=\"utf-8\") as file:\n",
        "    for idx, line in enumerate(file):\n",
        "\n",
        "      if idx + 2 >= vocab_size:\n",
        "        break\n",
        "\n",
        "      cols = line.rstrip().split(\" \")\n",
        "      val = np.array(cols[1:])\n",
        "      word = cols[0]\n",
        "      embeddings[idx + 2] = val\n",
        "      vocab[word] = idx + 2\n",
        "  \n",
        "  # a FloatTensor is a multidimensional matrix\n",
        "  # that contains 32-bit floats in every entry\n",
        "  # https://pytorch.org/docs/stable/tensors.html\n",
        "  return torch.FloatTensor(embeddings), vocab"
      ]
    },
    {
      "cell_type": "markdown",
      "metadata": {
        "id": "PrBHMiLPIOKB"
      },
      "source": [
        "# Logistic regression\n",
        "\n",
        "First, let's code up logistic regression in pytorch so you can see how the general framework works, and also get a sense of its performance that we can compare a CNN against."
      ]
    },
    {
      "cell_type": "code",
      "execution_count": null,
      "metadata": {
        "id": "392D8YLfI_K3"
      },
      "outputs": [],
      "source": [
        "class LogisticRegressionClassifier(nn.Module):\n",
        "\n",
        "   def __init__(self, input_dim, output_dim):\n",
        "      super().__init__()\n",
        "      self.linear = torch.nn.Linear(input_dim, output_dim)\n",
        " \n",
        "    \n",
        "   def forward(self, input): \n",
        "      x1 = self.linear(input)\n",
        "      return x1\n",
        "\n",
        "   def evaluate(self, x, y):\n",
        "\n",
        "      self.eval()\n",
        "      corr = 0.\n",
        "      total = 0.\n",
        "      with torch.no_grad():\n",
        "        for x, y in zip(x, y):\n",
        "          x, y = x.to(device), y.to(device)\n",
        "          y_preds=self.forward(x)\n",
        "          for idx, y_pred in enumerate(y_preds):\n",
        "              prediction=torch.argmax(y_pred)\n",
        "              if prediction == y[idx]:\n",
        "                corr += 1.\n",
        "              total+=1                          \n",
        "      return corr/total\n"
      ]
    },
    {
      "cell_type": "markdown",
      "metadata": {
        "id": "sgaDKtOrc10l"
      },
      "source": [
        "## Example: Average Embedding Representation\n",
        "Let's train a logistic regression classifier where the input is the average GLoVE embedding for all words in a review."
      ]
    },
    {
      "cell_type": "code",
      "execution_count": null,
      "metadata": {
        "id": "0YgU4027luO3"
      },
      "outputs": [],
      "source": [
        "def read_glove_data(filename, vocab, embs):\n",
        "    data=[]\n",
        "    data_labels=[]\n",
        "    with open(filename) as file:\n",
        "        for line in file:\n",
        "            avg_emb=np.zeros(50)\n",
        "            cols=line.rstrip().split(\"\\t\")\n",
        "            idd = cols[0]\n",
        "            label = cols[1]\n",
        "            review = cols[2]\n",
        "            words=nltk.word_tokenize(review)\n",
        "            avg_counter = 0.\n",
        "            for word in words:\n",
        "                word=word.lower()\n",
        "                if word in glove_vocab:\n",
        "                    avg_emb += embs[glove_vocab[word]].numpy()\n",
        "                    avg_counter += 1.\n",
        "            avg_emb /= avg_counter\n",
        "\n",
        "            data.append(avg_emb)\n",
        "            data_labels.append(labels[label])\n",
        "    return data, data_labels \n"
      ]
    },
    {
      "cell_type": "code",
      "execution_count": null,
      "metadata": {
        "id": "JYb1iVsqb0Le"
      },
      "outputs": [],
      "source": [
        "embs, glove_vocab = read_embeddings(\"glove.6B.50d.50K.txt\")\n",
        "avg_train_x, avg_train_y=read_glove_data(trainingFile, glove_vocab, embs)\n",
        "avg_dev_x, avg_dev_y=read_glove_data(devFile, glove_vocab, embs)"
      ]
    },
    {
      "cell_type": "code",
      "execution_count": null,
      "metadata": {
        "id": "-FeYYf7-c01Z"
      },
      "outputs": [],
      "source": [
        "avg_trainX, avg_trainY=get_batches(avg_train_x, avg_train_y, xType=torch.FloatTensor)\n",
        "avg_devX, avg_devY=get_batches(avg_dev_x, avg_dev_y, xType=torch.FloatTensor)"
      ]
    },
    {
      "cell_type": "code",
      "execution_count": null,
      "metadata": {
        "id": "Duzn0vCrdR5X",
        "colab": {
          "base_uri": "https://localhost:8080/"
        },
        "outputId": "bc662647-1253-447b-c33b-67d30e267fef"
      },
      "outputs": [
        {
          "output_type": "stream",
          "name": "stdout",
          "text": [
            "Epoch 0, dev accuracy: 0.649\n",
            "Epoch 5, dev accuracy: 0.684\n",
            "Epoch 10, dev accuracy: 0.702\n",
            "Epoch 15, dev accuracy: 0.723\n",
            "Epoch 20, dev accuracy: 0.728\n",
            "Epoch 25, dev accuracy: 0.734\n",
            "Epoch 30, dev accuracy: 0.737\n",
            "Epoch 35, dev accuracy: 0.737\n",
            "Epoch 40, dev accuracy: 0.739\n",
            "Stopping training; no improvement on dev data after 10 epochs\n"
          ]
        }
      ],
      "source": [
        "logreg=LogisticRegressionClassifier(50, len(labels)).to(device)\n",
        "optimizer = torch.optim.Adam(logreg.parameters(), lr=0.001, weight_decay=1e-5)\n",
        "losses = []\n",
        "cross_entropy=nn.CrossEntropyLoss()\n",
        "\n",
        "num_labels=len(labels)\n",
        "\n",
        "patience=10\n",
        "maxDevAccuracy=0\n",
        "patienceCounter=0\n",
        "\n",
        "for epoch in range(200):\n",
        "    logreg.train()\n",
        "    \n",
        "    for x, y in zip(avg_trainX, avg_trainY):\n",
        "        x, y = x.to(device), y.to(device)\n",
        "        y_pred=logreg.forward(x)\n",
        "        loss = cross_entropy(y_pred.view(-1, num_labels), y.view(-1))\n",
        "        losses.append(loss)\n",
        "        optimizer.zero_grad()\n",
        "        loss.backward()\n",
        "        optimizer.step()\n",
        "\n",
        "    dev_accuracy=logreg.evaluate(avg_devX, avg_devY)\n",
        "    \n",
        "    # check if the dev accuracy is the best seen so far\n",
        "    if dev_accuracy > maxDevAccuracy:\n",
        "        maxDevAccuracy=dev_accuracy\n",
        "        patienceCounter=0\n",
        "    \n",
        "    patienceCounter+=1\n",
        "    \n",
        "    if epoch % 5 == 0:\n",
        "        print(\"Epoch %s, dev accuracy: %.3f\" % (epoch, dev_accuracy))\n",
        "    if patienceCounter >= patience:\n",
        "        print(\"Stopping training; no improvement on dev data after %s epochs\" % patience)\n",
        "        break"
      ]
    },
    {
      "cell_type": "markdown",
      "metadata": {
        "id": "ObjO1BiXc_nY"
      },
      "source": [
        "# Deliverable 1. BOW Representation\n",
        "Your last homework used sklearn for logistic regression classification using a bag-of-words representation. Here you'll do the same thing, but in pytorch.  Fill in a bag-of-words implementation into read_bow_data() to see how the logistic classifier model works with this different featurization. "
      ]
    },
    {
      "cell_type": "code",
      "execution_count": null,
      "metadata": {
        "id": "0r3LM0mKDxVP"
      },
      "outputs": [],
      "source": [
        "# This function creates a unigram vocabulary from the most frequent 10K words in the training data\n",
        "def get_vocab(filename, max_words=10000):\n",
        "    unigram_counts=Counter()\n",
        "    with open(filename) as file:    \n",
        "        for line in file:\n",
        "            cols=line.rstrip().split(\"\\t\")\n",
        "            idd = cols[0]\n",
        "            label = cols[1]\n",
        "            review = cols[2]\n",
        "            words=nltk.word_tokenize(review)\n",
        "\n",
        "            for word in words:\n",
        "                word=word.lower()\n",
        "                unigram_counts[word]+=1\n",
        "\n",
        "    vocab={}\n",
        "    for k,v in unigram_counts.most_common(max_words):\n",
        "        vocab[k]=len(vocab)\n",
        "    return vocab\n",
        "        "
      ]
    },
    {
      "cell_type": "code",
      "execution_count": null,
      "metadata": {
        "id": "huWSY2FNlqrF"
      },
      "outputs": [],
      "source": [
        "def read_bow_data(filename, vocab):\n",
        "    data=[]\n",
        "    data_labels=[]\n",
        "    with open(filename) as file:\n",
        "        for line in file:\n",
        "            cols=line.rstrip().split(\"\\t\")\n",
        "            idd = cols[0]\n",
        "            label = cols[1]\n",
        "            review = cols[2]\n",
        "            bow=np.zeros(len(vocab))\n",
        "\n",
        "            words=nltk.word_tokenize(review)\n",
        "\n",
        "            '''\n",
        "            Add your bow code here to store the featurization in the bow variable.\n",
        "            \n",
        "            \n",
        "            '''\n",
        "            #You should be iterating through all the words (tokens) in the review,\n",
        "            #So that you can create features that indicate the presence of a word.\n",
        "            for word in words:\n",
        "              word=word.lower()\n",
        "              index = vocab.get(word)\n",
        "              if isinstance(index, int):\n",
        "                bow[index] = 1\n",
        "\n",
        "            data.append(bow)\n",
        "\n",
        "            data_labels.append(labels[label])\n",
        "    return data, data_labels \n"
      ]
    },
    {
      "cell_type": "code",
      "execution_count": null,
      "metadata": {
        "id": "tc9ZGJvWImkA"
      },
      "outputs": [],
      "source": [
        "bow_vocab=get_vocab(trainingFile)\n",
        "bow_train_x, bow_train_y=read_bow_data(trainingFile, bow_vocab)\n",
        "bow_dev_x, bow_dev_y=read_bow_data(devFile, bow_vocab)"
      ]
    },
    {
      "cell_type": "code",
      "execution_count": null,
      "metadata": {
        "id": "LFucMsZII8Hb"
      },
      "outputs": [],
      "source": [
        "bow_trainX, bow_trainY=get_batches(bow_train_x, bow_train_y, xType=torch.FloatTensor)\n",
        "bow_devX, bow_devY=get_batches(bow_dev_x, bow_dev_y, xType=torch.FloatTensor)"
      ]
    },
    {
      "cell_type": "code",
      "execution_count": null,
      "metadata": {
        "id": "byr4SJB1JCDO",
        "colab": {
          "base_uri": "https://localhost:8080/"
        },
        "outputId": "6640c131-7bd3-4b82-ac9d-b77ea11e73fc"
      },
      "outputs": [
        {
          "output_type": "stream",
          "name": "stdout",
          "text": [
            "Epoch 0, dev accuracy: 0.844\n",
            "Epoch 5, dev accuracy: 0.870\n",
            "Epoch 10, dev accuracy: 0.859\n",
            "Stopping training; no improvement on dev data after 10 epochs\n",
            "\n",
            "Best Performing Model achieves dev accuracy of : 0.870\n"
          ]
        }
      ],
      "source": [
        "logreg=LogisticRegressionClassifier(len(bow_vocab), len(labels)).to(device)\n",
        "optimizer = torch.optim.Adam(logreg.parameters(), lr=0.001, weight_decay=1e-5)\n",
        "losses = []\n",
        "cross_entropy=nn.CrossEntropyLoss()\n",
        "best_dev_acc = 0.\n",
        "\n",
        "num_labels=len(labels)\n",
        "\n",
        "patience=10\n",
        "patienceCounter=0\n",
        "\n",
        "for epoch in range(200):\n",
        "    for x, y in zip(bow_trainX, bow_trainY):\n",
        "        x, y = x.to(device), y.to(device)\n",
        "        y_pred=logreg.forward(x)\n",
        "        loss = cross_entropy(y_pred.view(-1, num_labels), y.view(-1))\n",
        "        losses.append(loss)\n",
        "        optimizer.zero_grad()\n",
        "        loss.backward()\n",
        "        optimizer.step()\n",
        "    dev_accuracy=logreg.evaluate(bow_devX, bow_devY)\n",
        "            \n",
        "    if epoch % 5 == 0:\n",
        "        print(\"Epoch %s, dev accuracy: %.3f\" % (epoch, dev_accuracy))\n",
        "\n",
        "    # check if the dev accuracy is the best seen so far; save the model if so\n",
        "    if dev_accuracy > best_dev_acc:\n",
        "      torch.save(logreg.state_dict(), 'best-bowmodel-parameters.pt')\n",
        "      best_dev_acc = dev_accuracy\n",
        "      patienceCounter=0\n",
        "\n",
        "    patienceCounter+=1\n",
        "    if patienceCounter >= patience:\n",
        "        print(\"Stopping training; no improvement on dev data after %s epochs\" % patience)\n",
        "        break\n",
        "    \n",
        "logreg.load_state_dict(torch.load('best-bowmodel-parameters.pt'))\n",
        "print(\"\\nBest Performing Model achieves dev accuracy of : %.3f\" % (best_dev_acc))    "
      ]
    },
    {
      "cell_type": "markdown",
      "metadata": {
        "id": "bbHrmE4jJQrT"
      },
      "source": [
        "# Deliverable 2. CNN \n",
        "\n",
        "Now let's create our CNN."
      ]
    },
    {
      "cell_type": "code",
      "execution_count": null,
      "metadata": {
        "id": "9YhST7BOJPoG"
      },
      "outputs": [],
      "source": [
        "def read_data(filename, vocab, labels):\n",
        "    \"\"\"\n",
        "    :param filename: the name of the file\n",
        "    :return: list of tuple ([word index list], label)\n",
        "    as input for the forward and backward function\n",
        "    \"\"\"    \n",
        "    data = []\n",
        "    data_labels = []\n",
        "    file = open(filename)\n",
        "    for line in file:\n",
        "        cols = line.split(\"\\t\")\n",
        "        idd = cols[0]\n",
        "        label = cols[1]\n",
        "        review = cols[2]\n",
        "        w_int = []\n",
        "        for w in nltk.word_tokenize(review.lower()):\n",
        "            if w in vocab:\n",
        "                w_int.append(vocab[w])\n",
        "            else:\n",
        "                w_int.append(UNKNOWN_INDEX)\n",
        "        data_lens.append(len(w_int))\n",
        "        if len(w_int) < 549:\n",
        "            w_int.extend([PAD_INDEX] * (549 - len(w_int)))\n",
        "        if len(w_int) < 550:\n",
        "          data.append((w_int))\n",
        "          data_labels.append(labels[label])\n",
        "    file.close()\n",
        "    return data, data_labels\n"
      ]
    },
    {
      "cell_type": "code",
      "execution_count": null,
      "metadata": {
        "id": "9sB60ratJZvB"
      },
      "outputs": [],
      "source": [
        "embs, cnn_vocab = read_embeddings(\"glove.6B.50d.50K.txt\")"
      ]
    },
    {
      "cell_type": "code",
      "execution_count": null,
      "metadata": {
        "id": "hStl2tmiJesV"
      },
      "outputs": [],
      "source": [
        "cnn_train_x, cnn_train_y = read_data(trainingFile, cnn_vocab, labels)\n",
        "cnn_dev_x, cnn_dev_y = read_data(devFile, cnn_vocab, labels)"
      ]
    },
    {
      "cell_type": "code",
      "execution_count": null,
      "metadata": {
        "id": "gZNvT-REJgv1"
      },
      "outputs": [],
      "source": [
        "cnn_trainX, cnn_trainY=get_batches(cnn_train_x, cnn_train_y, torch.LongTensor)\n",
        "cnn_devX, cnn_devY=get_batches(cnn_dev_x, cnn_dev_y, torch.LongTensor)"
      ]
    },
    {
      "cell_type": "code",
      "execution_count": null,
      "metadata": {
        "id": "LDGz8mqdJjic"
      },
      "outputs": [],
      "source": [
        "class CNNClassifier(nn.Module):\n",
        "## This model performs 3 ifferent convolutios on the input data, of window sizes 1, 2, 3.\n",
        "## The input data to this model is a sequence of tokens consiting of a movie's reiew\n",
        "## All examples are padded to a maximum length of 50-dimensional GloVe word embeddings\n",
        "\n",
        "   def __init__(self, params, pretrained_embeddings):\n",
        "     #Model's initiatlitaion method creates and initializes the layes with their correct sizes.\n",
        "      super().__init__()\n",
        "      self.seq_len = params[\"max_seq_len\"]\n",
        "      self.num_labels = params[\"label_length\"]\n",
        "      \n",
        "      '''\n",
        "      Initialize the following layers according to the hw spec\n",
        "      '''\n",
        "      #This shoudl initialize embeddings from the pretrained_embeddings parameter.\n",
        "      #These embeddings shouldbe initialized to the GLoVE embedding values bur should update during training.\n",
        "      self.embeddings = nn.Embedding(len(pretrained_embeddings),50)\n",
        "\n",
        "      # convolution over 1 word\n",
        "      # This layer should be a nn.Conv1d layer with 50 filters which convolves over the GLoVE embeddings.\n",
        "      # Self.conv_1 should have a 1-word window.\n",
        "      # Stride of 1.\n",
        "\n",
        "      self.conv_1 = nn.Conv1d(50, 50, 1, stride=1)\n",
        "\n",
        "      # convolution over 2 words\n",
        "      # This layer should be a nn.Conv1d layer with 50 filters which convolves over the GLoVE embeddings.\n",
        "      # Self.conv_1 should have a 2-word window.\n",
        "      # Stride of 1.    \n",
        "      self.conv_2 = nn.Conv1d(50, 50, 2, stride=1)\n",
        "        \n",
        "      # convolution over 3 words\n",
        "      # This layer should be a nn.Conv1d layer with 50 filters which convolves over the GLoVE embeddings.\n",
        "      # Self.conv_1 should have a 3-word window.\n",
        "      # Stride of 1.    \n",
        "\n",
        "      self.conv_3 = nn.Conv1d(50, 50, 3, stride=1)\n",
        "      \n",
        "      #This should be a linear layer which takes in the concatenated 1-,2-,and 3-2ord CNN representations\n",
        "      #And outputs a prediction over the output classes!\n",
        "      self.fc = nn.Linear(in_features = 50 * 3, out_features= self.num_labels)\n",
        "\n",
        "\n",
        "   def forward(self, input): \n",
        "      #embeds the input sequences\n",
        "      x0 = self.embeddings(input)\n",
        "      #changes dimensions to be consistent with conv1d\n",
        "      x0 = x0.permute(0, 2, 1)\n",
        "\n",
        "      '''\n",
        "      Create the hidden representations according to the hw spec\n",
        "      '''\n",
        "\n",
        "      # Apply the one-word convolution, tanh, and max pool\n",
        "      # x1: Should contain the representation learned from the 1-word convolutional layer\n",
        "      # the 1-word convolution over the GLoVE embeddings, a tanh activation function, with max pooling\n",
        "      x1 = self.conv_1(x0)\n",
        "      x1 = nn.functional.tanh(x1)\n",
        "      x1 = torch.max(x1, dim = 2)[0]\n",
        "\n",
        "      # Apply the two-word convolution, tanh, and max pool\n",
        "      x2 = self.conv_2(x0)\n",
        "      x2 = nn.functional.tanh(x2)\n",
        "      x2 = torch.max(x2,dim = 2 )[0]\n",
        "\n",
        "      # Apply the three-word convolution, tanh, and max pool\n",
        "      x3 = self.conv_3(x0)\n",
        "      x3 = nn.functional.tanh(x3)\n",
        "      x3 = torch.max(x3, dim = 2 )[0]\n",
        "\n",
        "      # Concatenates the output of all 3 convolution layers\n",
        "      combined = torch.cat( (x1,x2,x3) , dim = 1 )\n",
        "\n",
        "      # Connects the combined output to the fully-connected layer\n",
        "      out = self.fc(combined)\n",
        "      return out.squeeze()\n",
        "\n",
        "\n",
        "   def evaluate(self, x, y):\n",
        "      \n",
        "      self.eval()\n",
        "      corr = 0.\n",
        "      total = 0.\n",
        "\n",
        "      with torch.no_grad():\n",
        "\n",
        "        for x, y in zip(x, y):\n",
        "          x, y = x.to(device), y.to(device)\n",
        "          y_preds=self.forward(x)\n",
        "          for idx, y_pred in enumerate(y_preds):\n",
        "              prediction=torch.argmax(y_pred)\n",
        "              if prediction == y[idx]:\n",
        "                corr += 1.\n",
        "              total+=1                          \n",
        "      return corr/total\n"
      ]
    },
    {
      "cell_type": "code",
      "execution_count": null,
      "metadata": {
        "id": "DxrBo0N0JlGM",
        "colab": {
          "base_uri": "https://localhost:8080/"
        },
        "outputId": "6fb24ec6-a2f4-4349-dece-e0cecfd2fbbc"
      },
      "outputs": [
        {
          "output_type": "stream",
          "name": "stderr",
          "text": [
            "/usr/local/lib/python3.7/dist-packages/torch/nn/functional.py:1795: UserWarning: nn.functional.tanh is deprecated. Use torch.tanh instead.\n",
            "  warnings.warn(\"nn.functional.tanh is deprecated. Use torch.tanh instead.\")\n"
          ]
        },
        {
          "output_type": "stream",
          "name": "stdout",
          "text": [
            "Epoch 0, dev accuracy: 0.695\n",
            "Epoch 1, dev accuracy: 0.755\n",
            "Epoch 2, dev accuracy: 0.779\n",
            "Epoch 3, dev accuracy: 0.785\n",
            "Epoch 4, dev accuracy: 0.798\n",
            "Epoch 5, dev accuracy: 0.797\n",
            "Epoch 6, dev accuracy: 0.804\n",
            "Epoch 7, dev accuracy: 0.811\n",
            "Epoch 8, dev accuracy: 0.813\n",
            "Epoch 9, dev accuracy: 0.818\n",
            "Epoch 10, dev accuracy: 0.807\n",
            "Epoch 11, dev accuracy: 0.812\n",
            "Epoch 12, dev accuracy: 0.814\n",
            "Epoch 13, dev accuracy: 0.814\n",
            "Epoch 14, dev accuracy: 0.811\n",
            "\n",
            "Best Performing Model achieves dev accuracy of : 0.818\n"
          ]
        }
      ],
      "source": [
        "# Running this cell should take ~2 minutes.\n",
        "embs, cnn_vocab = read_embeddings(\"glove.6B.50d.50K.txt\")\n",
        "cnnmodel = CNNClassifier(params={\"max_seq_len\": 549, \"label_length\": len(labels)}, pretrained_embeddings=embs).to(device)\n",
        "optimizer = torch.optim.Adam(cnnmodel.parameters(), lr=0.001, weight_decay=1e-5)\n",
        "losses = []\n",
        "cross_entropy=nn.CrossEntropyLoss()\n",
        "\n",
        "num_epochs=15\n",
        "best_dev_acc = 0.\n",
        "patience=10\n",
        "\n",
        "\n",
        "for epoch in range(num_epochs):\n",
        "    cnnmodel.train()\n",
        "\n",
        "    for x, y in zip(cnn_trainX, cnn_trainY):\n",
        "      x, y = x.to(device), y.to(device)\n",
        "      y_pred = cnnmodel.forward(x)\n",
        "      loss = cross_entropy(y_pred.view(-1, cnnmodel.num_labels), y.view(-1))\n",
        "      losses.append(loss) \n",
        "      optimizer.zero_grad()\n",
        "      loss.backward()\n",
        "      optimizer.step()\n",
        "    dev_accuracy=cnnmodel.evaluate(cnn_devX, cnn_devY)\n",
        "   \n",
        "    # check if the dev accuracy is the best seen so far; save the model if so\n",
        "    print(\"Epoch %s, dev accuracy: %.3f\" % (epoch, dev_accuracy))\n",
        "    if dev_accuracy > best_dev_acc:\n",
        "      torch.save(cnnmodel.state_dict(), 'best-cnnmodel-parameters.pt')\n",
        "      best_dev_acc = dev_accuracy\n",
        "      patienceCounter=0\n",
        "        \n",
        "    patienceCounter+=1\n",
        "    if patienceCounter >= patience:\n",
        "        print(\"Stopping training; no improvement on dev data after %s epochs\" % patience)\n",
        "        break\n",
        "\n",
        "    \n",
        "cnnmodel.load_state_dict(torch.load('best-cnnmodel-parameters.pt'))\n",
        "print(\"\\nBest Performing Model achieves dev accuracy of : %.3f\" % (best_dev_acc))\n"
      ]
    },
    {
      "cell_type": "markdown",
      "metadata": {
        "id": "8j5kM7T5T69d"
      },
      "source": [
        "# Model Exploration"
      ]
    },
    {
      "cell_type": "markdown",
      "metadata": {
        "id": "j7u2MerXT9fb"
      },
      "source": [
        "## CNN Loss Examination\n",
        "To debug your model and ensure it is updating correctly, it may be helpful to visualize your training loss.  The following code plots loss over epoch.  This should decrease as the model trains and eventually converge.  If your training loss is not decreasing, you might not be initializing your model or creating your forward() pass correctly."
      ]
    },
    {
      "cell_type": "code",
      "execution_count": null,
      "metadata": {
        "id": "0W1WDYkfrdLX",
        "colab": {
          "base_uri": "https://localhost:8080/",
          "height": 281
        },
        "outputId": "3c0f4149-5501-493b-a0c7-e2e517f4403b"
      },
      "outputs": [
        {
          "output_type": "display_data",
          "data": {
            "image/png": "[encoded data removed]",
            "text/plain": [
              "<Figure size 432x288 with 1 Axes>"
            ]
          },
          "metadata": {
            "needs_background": "light"
          }
        }
      ],
      "source": [
        "import matplotlib.pyplot as plt\n",
        "plt.plot(range(len(losses)), losses)\n",
        "plt.title(\"Training Loss over Time\")\n",
        "plt.show()"
      ]
    },
    {
      "cell_type": "markdown",
      "metadata": {
        "id": "nAW6FujgeUOb"
      },
      "source": [
        "# Deliverable 3. BoW vs. CNN.\n",
        "\n",
        "Compare and contrast the performance of your BoW representation and CNN. Did one model demonstrate a higher dev performance than the other? What do you see as the advantages of one model over the other that might lead to this performance difference on this data? Submit your <200 word answer to this question as a PDF on gradescope."
      ]
    },
    {
      "cell_type": "markdown",
      "source": [
        "It might come off as surprising that our BoW logistic regression model performs better than our CNN, given that we can consider logistic regression as a neural network without hidden layers. However, it only takes a closer look at our implementation that we realize the limitations that our first CNN has over the BoW.\n",
        "\n",
        "\n",
        "For instance, let's look at what our models \"look for\" when formulating our decision. For logistic regression, we have access to all the occurrences as well as non-occurrence of words per review allowing us to do fitting across all features. On the other hand, our CNN has n-grams and we limit ourselves to detecting patterns within ourselves, one, and two neighbors. This limited scope affects what a CNN will determine good and bad.\n",
        "\n",
        "\n",
        "While max pooling is that it provides a fixed size output matrix, (needed for classification), and gives out the most relevant information from our n-grams, other discerning features might've been left out, affecting the accuracy. On the other hand, BoW doesn't need to take the most relevant information, every word occurrence (and non-occurrence 0) are taken into consideration when performing logistic regression. "
      ],
      "metadata": {
        "id": "adGhkyBlG0tR"
      }
    }
  ],
  "metadata": {
    "accelerator": "GPU",
    "colab": {
      "collapsed_sections": [],
      "name": "Copy of HW_3.ipynb",
      "provenance": []
    },
    "kernelspec": {
      "display_name": "Python 3",
      "language": "python",
      "name": "python3"
    },
    "language_info": {
      "codemirror_mode": {
        "name": "ipython",
        "version": 3
      },
      "file_extension": ".py",
      "mimetype": "text/x-python",
      "name": "python",
      "nbconvert_exporter": "python",
      "pygments_lexer": "ipython3",
      "version": "3.9.1"
    }
  },
  "nbformat": 4,
  "nbformat_minor": 0
}